{
  "nbformat": 4,
  "nbformat_minor": 0,
  "metadata": {
    "colab": {
      "provenance": [],
      "authorship_tag": "ABX9TyPwMN4aosUQO6epYbEB5sOF",
      "include_colab_link": true
    },
    "kernelspec": {
      "name": "python3",
      "display_name": "Python 3"
    },
    "language_info": {
      "name": "python"
    }
  },
  "cells": [
    {
      "cell_type": "markdown",
      "metadata": {
        "id": "view-in-github",
        "colab_type": "text"
      },
      "source": [
        "<a href=\"https://colab.research.google.com/github/srishti-tech-art/Python/blob/main/NB1.ipynb\" target=\"_parent\"><img src=\"https://colab.research.google.com/assets/colab-badge.svg\" alt=\"Open In Colab\"/></a>"
      ]
    },
    {
      "cell_type": "code",
      "execution_count": 1,
      "metadata": {
        "colab": {
          "base_uri": "https://localhost:8080/"
        },
        "id": "q4Q9ujFWX-pq",
        "outputId": "bc699d9b-b767-4943-84f4-6a07ec3ab9e6"
      },
      "outputs": [
        {
          "output_type": "stream",
          "name": "stdout",
          "text": [
            "hello this is my first python notebook\n"
          ]
        }
      ],
      "source": [
        "print(\"hello this is my first python notebook\")"
      ]
    },
    {
      "cell_type": "markdown",
      "source": [],
      "metadata": {
        "id": "PrLfLH56YdbE"
      }
    },
    {
      "cell_type": "code",
      "source": [
        "print(\"My name is Srishti Sharma\")"
      ],
      "metadata": {
        "colab": {
          "base_uri": "https://localhost:8080/"
        },
        "id": "dCkDKCDEbwqD",
        "outputId": "81d32de1-877f-48e0-b5c3-59495d8367d8"
      },
      "execution_count": 4,
      "outputs": [
        {
          "output_type": "stream",
          "name": "stdout",
          "text": [
            "My name is Srishti Sharma\n"
          ]
        }
      ]
    },
    {
      "cell_type": "code",
      "source": [
        "print(\"Every line of code is a step toward mastery\")"
      ],
      "metadata": {
        "id": "GbHroRrUktk1",
        "outputId": "8bdd67ff-20e2-44d9-db7d-2fee1052621c",
        "colab": {
          "base_uri": "https://localhost:8080/"
        }
      },
      "execution_count": 5,
      "outputs": [
        {
          "output_type": "stream",
          "name": "stdout",
          "text": [
            "Every line of code is a step toward mastery\n"
          ]
        }
      ]
    }
  ]
}