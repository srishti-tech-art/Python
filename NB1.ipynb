{
  "nbformat": 4,
  "nbformat_minor": 0,
  "metadata": {
    "colab": {
      "provenance": [],
      "authorship_tag": "ABX9TyN39PSIz4Unb5fXIP7dacYd",
      "include_colab_link": true
    },
    "kernelspec": {
      "name": "python3",
      "display_name": "Python 3"
    },
    "language_info": {
      "name": "python"
    }
  },
  "cells": [
    {
      "cell_type": "markdown",
      "metadata": {
        "id": "view-in-github",
        "colab_type": "text"
      },
      "source": [
        "<a href=\"https://colab.research.google.com/github/srishti-tech-art/Python/blob/main/NB1.ipynb\" target=\"_parent\"><img src=\"https://colab.research.google.com/assets/colab-badge.svg\" alt=\"Open In Colab\"/></a>"
      ]
    },
    {
      "cell_type": "code",
      "execution_count": 1,
      "metadata": {
        "colab": {
          "base_uri": "https://localhost:8080/"
        },
        "id": "q4Q9ujFWX-pq",
        "outputId": "bc699d9b-b767-4943-84f4-6a07ec3ab9e6"
      },
      "outputs": [
        {
          "output_type": "stream",
          "name": "stdout",
          "text": [
            "hello this is my first python notebook\n"
          ]
        }
      ],
      "source": [
        "print(\"hello this is my first python notebook\")"
      ]
    },
    {
      "cell_type": "markdown",
      "source": [],
      "metadata": {
        "id": "PrLfLH56YdbE"
      }
    },
    {
      "cell_type": "code",
      "source": [
        "print(\"My name is Srishti Sharma\")"
      ],
      "metadata": {
        "id": "dCkDKCDEbwqD",
        "outputId": "45d76424-4b3f-4daf-acd9-1ddf970f1986",
        "colab": {
          "base_uri": "https://localhost:8080/"
        }
      },
      "execution_count": 3,
      "outputs": [
        {
          "output_type": "stream",
          "name": "stdout",
          "text": [
            "My name is Srishti Sharma\n"
          ]
        }
      ]
    }
  ]
}