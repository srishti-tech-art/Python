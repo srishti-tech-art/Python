{
  "cells": [
    {
      "cell_type": "markdown",
      "metadata": {
        "id": "view-in-github",
        "colab_type": "text"
      },
      "source": [
        "<a href=\"https://colab.research.google.com/github/srishti-tech-art/Python/blob/main/ByteBook.ipynb\" target=\"_parent\"><img src=\"https://colab.research.google.com/assets/colab-badge.svg\" alt=\"Open In Colab\"/></a>"
      ]
    },
    {
      "cell_type": "code",
      "execution_count": null,
      "metadata": {
        "id": "4tchj6fYoST4",
        "outputId": "a34a0c2d-7fda-4016-edcb-50d673c517fe",
        "colab": {
          "base_uri": "https://localhost:8080/"
        }
      },
      "outputs": [
        {
          "output_type": "stream",
          "name": "stdout",
          "text": [
            "34\n"
          ]
        }
      ],
      "source": [
        "print(34)"
      ]
    },
    {
      "cell_type": "code",
      "execution_count": null,
      "metadata": {
        "id": "CmoCFv0G8e0z",
        "outputId": "8039f644-f75a-478c-832b-1dec702b76fb",
        "colab": {
          "base_uri": "https://localhost:8080/"
        }
      },
      "outputs": [
        {
          "output_type": "stream",
          "name": "stdout",
          "text": [
            "Hello world\n"
          ]
        }
      ],
      "source": [
        "print(\"Hello world\")"
      ]
    },
    {
      "cell_type": "code",
      "execution_count": null,
      "metadata": {
        "id": "Msjmoj8T8i_i",
        "outputId": "805c9852-b1c3-4dc4-aad9-d98825e01f26",
        "colab": {
          "base_uri": "https://localhost:8080/"
        }
      },
      "outputs": [
        {
          "output_type": "stream",
          "name": "stdout",
          "text": [
            "\n"
          ]
        }
      ],
      "source": [
        "print(\"\")"
      ]
    },
    {
      "cell_type": "markdown",
      "metadata": {
        "id": "VeReJzvH8lTM"
      },
      "source": []
    },
    {
      "cell_type": "code",
      "execution_count": 1,
      "metadata": {
        "colab": {
          "base_uri": "https://localhost:8080/"
        },
        "id": "hE6S4iZc8lq5",
        "outputId": "4f4aecc3-b0eb-4780-fb58-390625744b17"
      },
      "outputs": [
        {
          "output_type": "stream",
          "name": "stdout",
          "text": [
            "12342222\n"
          ]
        }
      ],
      "source": [
        "print(12342222)"
      ]
    },
    {
      "cell_type": "code",
      "execution_count": null,
      "metadata": {
        "id": "aRqrriLX8gbL"
      },
      "outputs": [],
      "source": []
    },
    {
      "cell_type": "code",
      "execution_count": 2,
      "metadata": {
        "id": "M8Vtdr368n3f",
        "outputId": "2a9c6b94-497b-47d8-e1e1-82aece444f16",
        "colab": {
          "base_uri": "https://localhost:8080/"
        }
      },
      "outputs": [
        {
          "output_type": "stream",
          "name": "stdout",
          "text": [
            "8\n"
          ]
        }
      ],
      "source": [
        "print(0o10)"
      ]
    },
    {
      "cell_type": "code",
      "source": [
        "print(0o23)"
      ],
      "metadata": {
        "id": "LbghOXcyrRU1",
        "outputId": "f6c7f15b-8e98-4dc7-a2f8-4fde655dd03f",
        "colab": {
          "base_uri": "https://localhost:8080/"
        }
      },
      "execution_count": 3,
      "outputs": [
        {
          "output_type": "stream",
          "name": "stdout",
          "text": [
            "19\n"
          ]
        }
      ]
    },
    {
      "cell_type": "code",
      "source": [
        "print(0b10)"
      ],
      "metadata": {
        "id": "6ElENCNIrR8B",
        "outputId": "c0683b26-1973-48af-98d6-d05346382bab",
        "colab": {
          "base_uri": "https://localhost:8080/"
        }
      },
      "execution_count": 4,
      "outputs": [
        {
          "output_type": "stream",
          "name": "stdout",
          "text": [
            "2\n"
          ]
        }
      ]
    },
    {
      "cell_type": "code",
      "source": [
        "print(0o23)"
      ],
      "metadata": {
        "id": "HmffgKvtreys",
        "outputId": "61322327-2fe1-4f16-dad5-6ac25c807468",
        "colab": {
          "base_uri": "https://localhost:8080/"
        }
      },
      "execution_count": 5,
      "outputs": [
        {
          "output_type": "stream",
          "name": "stdout",
          "text": [
            "19\n"
          ]
        }
      ]
    },
    {
      "cell_type": "markdown",
      "source": [],
      "metadata": {
        "id": "caTQFdHMrfCX"
      }
    },
    {
      "cell_type": "code",
      "source": [
        "print(0*49)"
      ],
      "metadata": {
        "id": "DWFtP25GrfaG",
        "outputId": "e339c769-cc7c-434a-a7a2-be3ff37fba88",
        "colab": {
          "base_uri": "https://localhost:8080/"
        }
      },
      "execution_count": 7,
      "outputs": [
        {
          "output_type": "stream",
          "name": "stdout",
          "text": [
            "0\n"
          ]
        }
      ]
    },
    {
      "cell_type": "code",
      "source": [
        "print(0.4)"
      ],
      "metadata": {
        "id": "z6jKH6hBrfoz",
        "outputId": "3b62f8eb-7c8d-4380-d9f5-01cc3a6d4fc4",
        "colab": {
          "base_uri": "https://localhost:8080/"
        }
      },
      "execution_count": 8,
      "outputs": [
        {
          "output_type": "stream",
          "name": "stdout",
          "text": [
            "0.4\n"
          ]
        }
      ]
    },
    {
      "cell_type": "code",
      "source": [
        "print(5.1e4)"
      ],
      "metadata": {
        "id": "fzYz4zfksbSI",
        "outputId": "cc0465d1-d959-4832-bbff-4a22d2cbe06c",
        "colab": {
          "base_uri": "https://localhost:8080/"
        }
      },
      "execution_count": 9,
      "outputs": [
        {
          "output_type": "stream",
          "name": "stdout",
          "text": [
            "51000.0\n"
          ]
        }
      ]
    },
    {
      "cell_type": "code",
      "source": [
        "print(4.2e-4)"
      ],
      "metadata": {
        "id": "Rv0aMqUasbz7",
        "outputId": "ce0d7675-2990-4029-925e-f43e962aca2b",
        "colab": {
          "base_uri": "https://localhost:8080/"
        }
      },
      "execution_count": 10,
      "outputs": [
        {
          "output_type": "stream",
          "name": "stdout",
          "text": [
            "0.00042\n"
          ]
        }
      ]
    },
    {
      "cell_type": "code",
      "source": [
        "print(3+2j)"
      ],
      "metadata": {
        "id": "3FlsnmPksr12",
        "outputId": "d29bc044-6590-4443-b5b2-3250a5b0bfb4",
        "colab": {
          "base_uri": "https://localhost:8080/"
        }
      },
      "execution_count": 11,
      "outputs": [
        {
          "output_type": "stream",
          "name": "stdout",
          "text": [
            "(3+2j)\n"
          ]
        }
      ]
    },
    {
      "cell_type": "code",
      "source": [
        "print(\"a\")"
      ],
      "metadata": {
        "id": "hc--VyOjsx6w",
        "outputId": "7d82e3bb-df7b-458a-f512-ac51032f2e49",
        "colab": {
          "base_uri": "https://localhost:8080/"
        }
      },
      "execution_count": 12,
      "outputs": [
        {
          "output_type": "stream",
          "name": "stdout",
          "text": [
            "a\n"
          ]
        }
      ]
    },
    {
      "cell_type": "code",
      "source": [
        "print(\"This a sequece of characters\")"
      ],
      "metadata": {
        "id": "D4d8b6mas8sM",
        "outputId": "44a53e84-bead-4270-cfc6-3e6b0ed4550a",
        "colab": {
          "base_uri": "https://localhost:8080/"
        }
      },
      "execution_count": 13,
      "outputs": [
        {
          "output_type": "stream",
          "name": "stdout",
          "text": [
            "This a sequece of characters\n"
          ]
        }
      ]
    },
    {
      "cell_type": "code",
      "source": [
        "print('I am delimted bt single quotes')"
      ],
      "metadata": {
        "id": "LFIIh1metGvY",
        "outputId": "8204eb7f-cad2-48e5-9429-a9c43489f1cc",
        "colab": {
          "base_uri": "https://localhost:8080/"
        }
      },
      "execution_count": 14,
      "outputs": [
        {
          "output_type": "stream",
          "name": "stdout",
          "text": [
            "I am delimted bt single quotes\n"
          ]
        }
      ]
    },
    {
      "cell_type": "code",
      "source": [
        "print(\"I am delimted bt double quotes\")"
      ],
      "metadata": {
        "id": "a5ld3KNgtl_x",
        "outputId": "c7cc1309-1e36-41a6-b750-032e7700ec31",
        "colab": {
          "base_uri": "https://localhost:8080/"
        }
      },
      "execution_count": 15,
      "outputs": [
        {
          "output_type": "stream",
          "name": "stdout",
          "text": [
            "I am delimted bt double quotes\n"
          ]
        }
      ]
    },
    {
      "cell_type": "code",
      "source": [
        "print(\"\"\"I am delimted bt triple quotes\"\"\")"
      ],
      "metadata": {
        "id": "rIa2gVcGtnZm",
        "outputId": "8854dd42-e640-4b26-944d-5d8aa4ca6232",
        "colab": {
          "base_uri": "https://localhost:8080/"
        }
      },
      "execution_count": 16,
      "outputs": [
        {
          "output_type": "stream",
          "name": "stdout",
          "text": [
            "I am delimted bt triple quotes\n"
          ]
        }
      ]
    },
    {
      "cell_type": "markdown",
      "source": [],
      "metadata": {
        "id": "oCDXo2i9toXA"
      }
    },
    {
      "cell_type": "code",
      "source": [
        "print('This is wrong\")"
      ],
      "metadata": {
        "id": "g0KIKY21to2_",
        "outputId": "c765fe45-346f-4aa5-a4db-10931c06d32b",
        "colab": {
          "base_uri": "https://localhost:8080/",
          "height": 111
        }
      },
      "execution_count": 18,
      "outputs": [
        {
          "output_type": "error",
          "ename": "SyntaxError",
          "evalue": "unterminated string literal (detected at line 1) (<ipython-input-18-327641873bad>, line 1)",
          "traceback": [
            "\u001b[0;36m  File \u001b[0;32m\"<ipython-input-18-327641873bad>\"\u001b[0;36m, line \u001b[0;32m1\u001b[0m\n\u001b[0;31m    print('This is wrong\")\u001b[0m\n\u001b[0m          ^\u001b[0m\n\u001b[0;31mSyntaxError\u001b[0m\u001b[0;31m:\u001b[0m unterminated string literal (detected at line 1)\n"
          ]
        }
      ]
    },
    {
      "cell_type": "markdown",
      "source": [
        "print(\"this is kevin\\'s house\")"
      ],
      "metadata": {
        "id": "S3zyrvuFuF3i"
      }
    },
    {
      "cell_type": "code",
      "source": [
        "print(\"This is kevin's house\")"
      ],
      "metadata": {
        "id": "msajkdcuuSOY",
        "outputId": "b4ca2877-d5e1-4697-eb9a-963385372293",
        "colab": {
          "base_uri": "https://localhost:8080/"
        }
      },
      "execution_count": 20,
      "outputs": [
        {
          "output_type": "stream",
          "name": "stdout",
          "text": [
            "This is kevin's house\n"
          ]
        }
      ]
    },
    {
      "cell_type": "code",
      "source": [
        "print('Marus said: \"freedom to thr people\"')"
      ],
      "metadata": {
        "id": "b_CkwGJiujds",
        "outputId": "5a06eb95-d11a-47bd-ab0a-e5e8eab9e343",
        "colab": {
          "base_uri": "https://localhost:8080/"
        }
      },
      "execution_count": 21,
      "outputs": [
        {
          "output_type": "stream",
          "name": "stdout",
          "text": [
            "Marus said: \"freedom to thr people\"\n"
          ]
        }
      ]
    },
    {
      "cell_type": "code",
      "source": [
        "print(\"\"\" This is kevin's house and Marus said: \"freedom to thr people\" \"\"\")"
      ],
      "metadata": {
        "id": "r0n6Mu8SvE3g",
        "outputId": "d922da7d-cc88-4499-c6f2-cc6bbe4204e8",
        "colab": {
          "base_uri": "https://localhost:8080/"
        }
      },
      "execution_count": 22,
      "outputs": [
        {
          "output_type": "stream",
          "name": "stdout",
          "text": [
            " This is kevin's house and Marus said: \"freedom to thr people\" \n"
          ]
        }
      ]
    }
  ],
  "metadata": {
    "colab": {
      "provenance": [],
      "toc_visible": true,
      "authorship_tag": "ABX9TyM1wt+Sx4XggYgHdJq1EJ81",
      "include_colab_link": true
    },
    "kernelspec": {
      "display_name": "Python 3",
      "name": "python3"
    },
    "language_info": {
      "name": "python"
    }
  },
  "nbformat": 4,
  "nbformat_minor": 0
}