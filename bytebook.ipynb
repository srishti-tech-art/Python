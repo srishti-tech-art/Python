{
  "cells": [
    {
      "cell_type": "markdown",
      "metadata": {
        "id": "view-in-github",
        "colab_type": "text"
      },
      "source": [
        "<a href=\"https://colab.research.google.com/github/srishti-tech-art/Python/blob/main/bytebook.ipynb\" target=\"_parent\"><img src=\"https://colab.research.google.com/assets/colab-badge.svg\" alt=\"Open In Colab\"/></a>"
      ]
    },
    {
      "cell_type": "code",
      "execution_count": null,
      "metadata": {
        "id": "4tchj6fYoST4",
        "outputId": "a34a0c2d-7fda-4016-edcb-50d673c517fe",
        "colab": {
          "base_uri": "https://localhost:8080/"
        }
      },
      "outputs": [
        {
          "output_type": "stream",
          "name": "stdout",
          "text": [
            "34\n"
          ]
        }
      ],
      "source": [
        "print(34)"
      ]
    },
    {
      "cell_type": "code",
      "execution_count": null,
      "metadata": {
        "id": "CmoCFv0G8e0z",
        "outputId": "8039f644-f75a-478c-832b-1dec702b76fb",
        "colab": {
          "base_uri": "https://localhost:8080/"
        }
      },
      "outputs": [
        {
          "output_type": "stream",
          "name": "stdout",
          "text": [
            "Hello world\n"
          ]
        }
      ],
      "source": [
        "print(\"Hello world\")"
      ]
    },
    {
      "cell_type": "code",
      "execution_count": null,
      "metadata": {
        "id": "Msjmoj8T8i_i",
        "outputId": "805c9852-b1c3-4dc4-aad9-d98825e01f26",
        "colab": {
          "base_uri": "https://localhost:8080/"
        }
      },
      "outputs": [
        {
          "output_type": "stream",
          "name": "stdout",
          "text": [
            "\n"
          ]
        }
      ],
      "source": [
        "print(\"\")"
      ]
    },
    {
      "cell_type": "markdown",
      "metadata": {
        "id": "VeReJzvH8lTM"
      },
      "source": []
    },
    {
      "cell_type": "code",
      "execution_count": null,
      "metadata": {
        "colab": {
          "base_uri": "https://localhost:8080/"
        },
        "id": "hE6S4iZc8lq5",
        "outputId": "4f4aecc3-b0eb-4780-fb58-390625744b17"
      },
      "outputs": [
        {
          "output_type": "stream",
          "name": "stdout",
          "text": [
            "12342222\n"
          ]
        }
      ],
      "source": [
        "print(12342222)"
      ]
    },
    {
      "cell_type": "code",
      "execution_count": null,
      "metadata": {
        "id": "aRqrriLX8gbL"
      },
      "outputs": [],
      "source": []
    },
    {
      "cell_type": "code",
      "execution_count": null,
      "metadata": {
        "id": "M8Vtdr368n3f",
        "outputId": "2a9c6b94-497b-47d8-e1e1-82aece444f16",
        "colab": {
          "base_uri": "https://localhost:8080/"
        }
      },
      "outputs": [
        {
          "output_type": "stream",
          "name": "stdout",
          "text": [
            "8\n"
          ]
        }
      ],
      "source": [
        "print(0o10)"
      ]
    },
    {
      "cell_type": "code",
      "source": [
        "print(0o23)"
      ],
      "metadata": {
        "id": "LbghOXcyrRU1",
        "outputId": "f6c7f15b-8e98-4dc7-a2f8-4fde655dd03f",
        "colab": {
          "base_uri": "https://localhost:8080/"
        }
      },
      "execution_count": null,
      "outputs": [
        {
          "output_type": "stream",
          "name": "stdout",
          "text": [
            "19\n"
          ]
        }
      ]
    },
    {
      "cell_type": "code",
      "source": [
        "print(0b10)"
      ],
      "metadata": {
        "id": "6ElENCNIrR8B",
        "outputId": "c0683b26-1973-48af-98d6-d05346382bab",
        "colab": {
          "base_uri": "https://localhost:8080/"
        }
      },
      "execution_count": null,
      "outputs": [
        {
          "output_type": "stream",
          "name": "stdout",
          "text": [
            "2\n"
          ]
        }
      ]
    },
    {
      "cell_type": "code",
      "source": [
        "print(0o23)"
      ],
      "metadata": {
        "id": "HmffgKvtreys",
        "outputId": "61322327-2fe1-4f16-dad5-6ac25c807468",
        "colab": {
          "base_uri": "https://localhost:8080/"
        }
      },
      "execution_count": null,
      "outputs": [
        {
          "output_type": "stream",
          "name": "stdout",
          "text": [
            "19\n"
          ]
        }
      ]
    },
    {
      "cell_type": "markdown",
      "source": [],
      "metadata": {
        "id": "caTQFdHMrfCX"
      }
    },
    {
      "cell_type": "code",
      "source": [
        "print(0*49)"
      ],
      "metadata": {
        "id": "DWFtP25GrfaG",
        "outputId": "e339c769-cc7c-434a-a7a2-be3ff37fba88",
        "colab": {
          "base_uri": "https://localhost:8080/"
        }
      },
      "execution_count": null,
      "outputs": [
        {
          "output_type": "stream",
          "name": "stdout",
          "text": [
            "0\n"
          ]
        }
      ]
    },
    {
      "cell_type": "code",
      "source": [
        "print(0.4)"
      ],
      "metadata": {
        "id": "z6jKH6hBrfoz",
        "outputId": "3b62f8eb-7c8d-4380-d9f5-01cc3a6d4fc4",
        "colab": {
          "base_uri": "https://localhost:8080/"
        }
      },
      "execution_count": null,
      "outputs": [
        {
          "output_type": "stream",
          "name": "stdout",
          "text": [
            "0.4\n"
          ]
        }
      ]
    },
    {
      "cell_type": "code",
      "source": [
        "print(5.1e4)"
      ],
      "metadata": {
        "id": "fzYz4zfksbSI",
        "outputId": "cc0465d1-d959-4832-bbff-4a22d2cbe06c",
        "colab": {
          "base_uri": "https://localhost:8080/"
        }
      },
      "execution_count": null,
      "outputs": [
        {
          "output_type": "stream",
          "name": "stdout",
          "text": [
            "51000.0\n"
          ]
        }
      ]
    },
    {
      "cell_type": "code",
      "source": [
        "print(4.2e-4)"
      ],
      "metadata": {
        "id": "Rv0aMqUasbz7",
        "outputId": "ce0d7675-2990-4029-925e-f43e962aca2b",
        "colab": {
          "base_uri": "https://localhost:8080/"
        }
      },
      "execution_count": null,
      "outputs": [
        {
          "output_type": "stream",
          "name": "stdout",
          "text": [
            "0.00042\n"
          ]
        }
      ]
    },
    {
      "cell_type": "code",
      "source": [
        "print(3+2j)"
      ],
      "metadata": {
        "id": "3FlsnmPksr12",
        "outputId": "d29bc044-6590-4443-b5b2-3250a5b0bfb4",
        "colab": {
          "base_uri": "https://localhost:8080/"
        }
      },
      "execution_count": null,
      "outputs": [
        {
          "output_type": "stream",
          "name": "stdout",
          "text": [
            "(3+2j)\n"
          ]
        }
      ]
    },
    {
      "cell_type": "code",
      "source": [
        "print(\"a\")"
      ],
      "metadata": {
        "id": "hc--VyOjsx6w",
        "outputId": "7d82e3bb-df7b-458a-f512-ac51032f2e49",
        "colab": {
          "base_uri": "https://localhost:8080/"
        }
      },
      "execution_count": null,
      "outputs": [
        {
          "output_type": "stream",
          "name": "stdout",
          "text": [
            "a\n"
          ]
        }
      ]
    },
    {
      "cell_type": "code",
      "source": [
        "print(\"This a sequece of characters\")"
      ],
      "metadata": {
        "id": "D4d8b6mas8sM",
        "outputId": "44a53e84-bead-4270-cfc6-3e6b0ed4550a",
        "colab": {
          "base_uri": "https://localhost:8080/"
        }
      },
      "execution_count": null,
      "outputs": [
        {
          "output_type": "stream",
          "name": "stdout",
          "text": [
            "This a sequece of characters\n"
          ]
        }
      ]
    },
    {
      "cell_type": "code",
      "source": [
        "print('I am delimted bt single quotes')"
      ],
      "metadata": {
        "id": "LFIIh1metGvY",
        "outputId": "8204eb7f-cad2-48e5-9429-a9c43489f1cc",
        "colab": {
          "base_uri": "https://localhost:8080/"
        }
      },
      "execution_count": null,
      "outputs": [
        {
          "output_type": "stream",
          "name": "stdout",
          "text": [
            "I am delimted bt single quotes\n"
          ]
        }
      ]
    },
    {
      "cell_type": "code",
      "source": [
        "print(\"I am delimted bt double quotes\")"
      ],
      "metadata": {
        "id": "a5ld3KNgtl_x",
        "outputId": "c7cc1309-1e36-41a6-b750-032e7700ec31",
        "colab": {
          "base_uri": "https://localhost:8080/"
        }
      },
      "execution_count": null,
      "outputs": [
        {
          "output_type": "stream",
          "name": "stdout",
          "text": [
            "I am delimted bt double quotes\n"
          ]
        }
      ]
    },
    {
      "cell_type": "code",
      "source": [
        "print(\"\"\"I am delimted bt triple quotes\"\"\")"
      ],
      "metadata": {
        "id": "rIa2gVcGtnZm",
        "outputId": "8854dd42-e640-4b26-944d-5d8aa4ca6232",
        "colab": {
          "base_uri": "https://localhost:8080/"
        }
      },
      "execution_count": null,
      "outputs": [
        {
          "output_type": "stream",
          "name": "stdout",
          "text": [
            "I am delimted bt triple quotes\n"
          ]
        }
      ]
    },
    {
      "cell_type": "markdown",
      "source": [],
      "metadata": {
        "id": "oCDXo2i9toXA"
      }
    },
    {
      "cell_type": "code",
      "source": [
        "print('This is wrong\")"
      ],
      "metadata": {
        "id": "g0KIKY21to2_",
        "outputId": "c765fe45-346f-4aa5-a4db-10931c06d32b",
        "colab": {
          "base_uri": "https://localhost:8080/",
          "height": 111
        }
      },
      "execution_count": null,
      "outputs": [
        {
          "output_type": "error",
          "ename": "SyntaxError",
          "evalue": "unterminated string literal (detected at line 1) (<ipython-input-18-327641873bad>, line 1)",
          "traceback": [
            "\u001b[0;36m  File \u001b[0;32m\"<ipython-input-18-327641873bad>\"\u001b[0;36m, line \u001b[0;32m1\u001b[0m\n\u001b[0;31m    print('This is wrong\")\u001b[0m\n\u001b[0m          ^\u001b[0m\n\u001b[0;31mSyntaxError\u001b[0m\u001b[0;31m:\u001b[0m unterminated string literal (detected at line 1)\n"
          ]
        }
      ]
    },
    {
      "cell_type": "markdown",
      "source": [
        "print(\"this is kevin\\'s house\")"
      ],
      "metadata": {
        "id": "S3zyrvuFuF3i"
      }
    },
    {
      "cell_type": "code",
      "source": [
        "print(\"This is kevin's house\")"
      ],
      "metadata": {
        "id": "msajkdcuuSOY",
        "outputId": "b4ca2877-d5e1-4697-eb9a-963385372293",
        "colab": {
          "base_uri": "https://localhost:8080/"
        }
      },
      "execution_count": null,
      "outputs": [
        {
          "output_type": "stream",
          "name": "stdout",
          "text": [
            "This is kevin's house\n"
          ]
        }
      ]
    },
    {
      "cell_type": "code",
      "source": [
        "print('Marus said: \"freedom to thr people\"')"
      ],
      "metadata": {
        "id": "b_CkwGJiujds",
        "outputId": "5a06eb95-d11a-47bd-ab0a-e5e8eab9e343",
        "colab": {
          "base_uri": "https://localhost:8080/"
        }
      },
      "execution_count": null,
      "outputs": [
        {
          "output_type": "stream",
          "name": "stdout",
          "text": [
            "Marus said: \"freedom to thr people\"\n"
          ]
        }
      ]
    },
    {
      "cell_type": "code",
      "source": [
        "print(\"\"\" This is kevin's house and Marus said: \"freedom to thr people\" \"\"\")"
      ],
      "metadata": {
        "id": "r0n6Mu8SvE3g",
        "outputId": "d922da7d-cc88-4499-c6f2-cc6bbe4204e8",
        "colab": {
          "base_uri": "https://localhost:8080/"
        }
      },
      "execution_count": null,
      "outputs": [
        {
          "output_type": "stream",
          "name": "stdout",
          "text": [
            " This is kevin's house and Marus said: \"freedom to thr people\" \n"
          ]
        }
      ]
    },
    {
      "cell_type": "code",
      "source": [
        "print(True)\n",
        "print(False)"
      ],
      "metadata": {
        "colab": {
          "base_uri": "https://localhost:8080/"
        },
        "id": "kt_l0WND4toh",
        "outputId": "3a09ad4f-d139-4495-da83-5bad9fc4fcee"
      },
      "execution_count": null,
      "outputs": [
        {
          "output_type": "stream",
          "name": "stdout",
          "text": [
            "True\n",
            "False\n"
          ]
        }
      ]
    },
    {
      "cell_type": "code",
      "source": [
        "print(type(44))\n",
        "print(type(0o10))\n",
        "print(type(0b10))\n",
        "print(type(0x10))"
      ],
      "metadata": {
        "colab": {
          "base_uri": "https://localhost:8080/"
        },
        "id": "2mpkq5Pr442v",
        "outputId": "a5e8f07f-ba61-496c-e5a8-515d107ffc3d"
      },
      "execution_count": null,
      "outputs": [
        {
          "output_type": "stream",
          "name": "stdout",
          "text": [
            "<class 'int'>\n",
            "<class 'int'>\n",
            "<class 'int'>\n",
            "<class 'int'>\n"
          ]
        }
      ]
    },
    {
      "cell_type": "code",
      "source": [
        "print(type(5.1e4))\n",
        "print(type(8.9e-4))"
      ],
      "metadata": {
        "colab": {
          "base_uri": "https://localhost:8080/"
        },
        "id": "o9bw1TTa45Ig",
        "outputId": "c6846663-0985-426e-84a7-db5aabc68883"
      },
      "execution_count": null,
      "outputs": [
        {
          "output_type": "stream",
          "name": "stdout",
          "text": [
            "<class 'float'>\n",
            "<class 'float'>\n"
          ]
        }
      ]
    },
    {
      "cell_type": "code",
      "source": [
        "print(type(3+2j))"
      ],
      "metadata": {
        "colab": {
          "base_uri": "https://localhost:8080/"
        },
        "id": "PlrUeCwG45ZR",
        "outputId": "5f55be8a-3853-4197-f5ae-bc53b7987885"
      },
      "execution_count": null,
      "outputs": [
        {
          "output_type": "stream",
          "name": "stdout",
          "text": [
            "<class 'complex'>\n"
          ]
        }
      ]
    },
    {
      "cell_type": "code",
      "source": [
        "print(type(True))\n",
        "print(type(False))"
      ],
      "metadata": {
        "colab": {
          "base_uri": "https://localhost:8080/"
        },
        "id": "jjgTpXNW45qU",
        "outputId": "1ace8248-9d3c-4a0d-b5f0-16a34b78c485"
      },
      "execution_count": null,
      "outputs": [
        {
          "output_type": "stream",
          "name": "stdout",
          "text": [
            "<class 'bool'>\n",
            "<class 'bool'>\n"
          ]
        }
      ]
    },
    {
      "cell_type": "code",
      "source": [
        "print(type(\"\"\" The chief said:\"No, this is Bob's house\" \"\"\"))\n",
        "print(type(\"I am delimited by double quotes\"))"
      ],
      "metadata": {
        "colab": {
          "base_uri": "https://localhost:8080/"
        },
        "id": "6jiPociY457y",
        "outputId": "5a8131a8-47e6-40f6-d07d-2f33387e2e46"
      },
      "execution_count": null,
      "outputs": [
        {
          "output_type": "stream",
          "name": "stdout",
          "text": [
            "<class 'str'>\n",
            "<class 'str'>\n"
          ]
        }
      ]
    },
    {
      "cell_type": "code",
      "source": [
        "print(\"This will print\")\n",
        "#comment start with # character. all the text after # will be ignored\n",
        "#this will be not print\n",
        "#print(\"hello word\")\n",
        "print(\"This will also print\")"
      ],
      "metadata": {
        "colab": {
          "base_uri": "https://localhost:8080/"
        },
        "id": "M5ntVUit46MT",
        "outputId": "5bed1003-1dad-4a2d-d07e-262c766aa0ca"
      },
      "execution_count": null,
      "outputs": [
        {
          "output_type": "stream",
          "name": "stdout",
          "text": [
            "This will print\n",
            "This will also print\n"
          ]
        }
      ]
    },
    {
      "cell_type": "code",
      "source": [
        "name = \"semasuka\"\n",
        "print(name)"
      ],
      "metadata": {
        "colab": {
          "base_uri": "https://localhost:8080/"
        },
        "id": "shIhPrOc46We",
        "outputId": "93d96af9-19da-4805-b20f-fa3a37868a69"
      },
      "execution_count": null,
      "outputs": [
        {
          "output_type": "stream",
          "name": "stdout",
          "text": [
            "semasuka\n"
          ]
        }
      ]
    },
    {
      "cell_type": "code",
      "source": [
        "#The following code will not run, you should avoid declare variable like this\n",
        "number% = 8\n",
        "1_number = 8\n",
        "this_name_is_too_long_to_be_used = \"Not to be used\"\n",
        "x = 34\n",
        "weshouldputspacebetween = \"Not to be used\""
      ],
      "metadata": {
        "colab": {
          "base_uri": "https://localhost:8080/",
          "height": 111
        },
        "id": "rC3mykOs46gx",
        "outputId": "fabed88f-5665-4264-e331-01fd2e0df567"
      },
      "execution_count": null,
      "outputs": [
        {
          "output_type": "error",
          "ename": "SyntaxError",
          "evalue": "invalid decimal literal (<ipython-input-9-8e4b885ca683>, line 3)",
          "traceback": [
            "\u001b[0;36m  File \u001b[0;32m\"<ipython-input-9-8e4b885ca683>\"\u001b[0;36m, line \u001b[0;32m3\u001b[0m\n\u001b[0;31m    1_number = 8\u001b[0m\n\u001b[0m     ^\u001b[0m\n\u001b[0;31mSyntaxError\u001b[0m\u001b[0;31m:\u001b[0m invalid decimal literal\n"
          ]
        }
      ]
    },
    {
      "cell_type": "code",
      "source": [
        "#now we can print the varibles\n",
        "print(number_8)\n",
        "print(my_name)\n",
        "print(the_total)\n",
        "print(first_second_name)\n",
        "print(greeting)\n",
        "print(Greeting)"
      ],
      "metadata": {
        "colab": {
          "base_uri": "https://localhost:8080/",
          "height": 222
        },
        "id": "FdRwkOKWtkUB",
        "outputId": "d2689498-c9dc-4df8-9148-1668524761a4"
      },
      "execution_count": null,
      "outputs": [
        {
          "output_type": "error",
          "ename": "NameError",
          "evalue": "name 'number_8' is not defined",
          "traceback": [
            "\u001b[0;31m---------------------------------------------------------------------------\u001b[0m",
            "\u001b[0;31mNameError\u001b[0m                                 Traceback (most recent call last)",
            "\u001b[0;32m<ipython-input-10-a3de3f59380a>\u001b[0m in \u001b[0;36m<cell line: 0>\u001b[0;34m()\u001b[0m\n\u001b[1;32m      1\u001b[0m \u001b[0;31m#now we can print the varibles\u001b[0m\u001b[0;34m\u001b[0m\u001b[0;34m\u001b[0m\u001b[0m\n\u001b[0;32m----> 2\u001b[0;31m \u001b[0mprint\u001b[0m\u001b[0;34m(\u001b[0m\u001b[0mnumber_8\u001b[0m\u001b[0;34m)\u001b[0m\u001b[0;34m\u001b[0m\u001b[0;34m\u001b[0m\u001b[0m\n\u001b[0m\u001b[1;32m      3\u001b[0m \u001b[0mprint\u001b[0m\u001b[0;34m(\u001b[0m\u001b[0mmy_name\u001b[0m\u001b[0;34m)\u001b[0m\u001b[0;34m\u001b[0m\u001b[0;34m\u001b[0m\u001b[0m\n\u001b[1;32m      4\u001b[0m \u001b[0mprint\u001b[0m\u001b[0;34m(\u001b[0m\u001b[0mthe_total\u001b[0m\u001b[0;34m)\u001b[0m\u001b[0;34m\u001b[0m\u001b[0;34m\u001b[0m\u001b[0m\n\u001b[1;32m      5\u001b[0m \u001b[0mprint\u001b[0m\u001b[0;34m(\u001b[0m\u001b[0mfirst_second_name\u001b[0m\u001b[0;34m)\u001b[0m\u001b[0;34m\u001b[0m\u001b[0;34m\u001b[0m\u001b[0m\n",
            "\u001b[0;31mNameError\u001b[0m: name 'number_8' is not defined"
          ]
        }
      ]
    },
    {
      "cell_type": "code",
      "source": [
        "car = \"Porsche\"\n",
        "print(car)"
      ],
      "metadata": {
        "colab": {
          "base_uri": "https://localhost:8080/"
        },
        "id": "taM4Yxgmtkj6",
        "outputId": "21005a47-355f-4d6c-c5ab-78734a0a7214"
      },
      "execution_count": null,
      "outputs": [
        {
          "output_type": "stream",
          "name": "stdout",
          "text": [
            "Porsche\n"
          ]
        }
      ]
    },
    {
      "cell_type": "markdown",
      "source": [],
      "metadata": {
        "id": "i04AjF-WtkvS"
      }
    },
    {
      "cell_type": "code",
      "source": [
        "car = \"Benz\"\n",
        "print(car)"
      ],
      "metadata": {
        "colab": {
          "base_uri": "https://localhost:8080/"
        },
        "id": "cXJlHpQctlEU",
        "outputId": "ea8f2973-2904-40dc-9711-cf174c44af30"
      },
      "execution_count": null,
      "outputs": [
        {
          "output_type": "stream",
          "name": "stdout",
          "text": [
            "Benz\n"
          ]
        }
      ]
    },
    {
      "cell_type": "code",
      "source": [
        "print(\"hello\"+\"world\")"
      ],
      "metadata": {
        "colab": {
          "base_uri": "https://localhost:8080/"
        },
        "id": "csyXc-ImtlPW",
        "outputId": "2bd3c7a6-9eea-4499-df1f-31c7e45e59d1"
      },
      "execution_count": null,
      "outputs": [
        {
          "output_type": "stream",
          "name": "stdout",
          "text": [
            "helloworld\n"
          ]
        }
      ]
    },
    {
      "cell_type": "code",
      "source": [
        "print(\"hello\"+\" \"+\"world\")"
      ],
      "metadata": {
        "colab": {
          "base_uri": "https://localhost:8080/"
        },
        "id": "hTEqpeyBtlZA",
        "outputId": "fb4f45ac-5b93-432e-fc42-05c92ab4d535"
      },
      "execution_count": null,
      "outputs": [
        {
          "output_type": "stream",
          "name": "stdout",
          "text": [
            "hello world\n"
          ]
        }
      ]
    },
    {
      "cell_type": "code",
      "source": [
        "greetings = \"hello\"\n",
        "name = \"stern\""
      ],
      "metadata": {
        "id": "JC-0mlFttlig"
      },
      "execution_count": null,
      "outputs": []
    },
    {
      "cell_type": "code",
      "source": [
        "city = \"Bujumbura\"\n",
        "country = \"Burundi\"\n",
        "country_city = country + \" \" + city\n",
        "print(\"The capital city of \"+country+\" is \"+city)\n",
        "print(\"country + city: \"+country_city)"
      ],
      "metadata": {
        "colab": {
          "base_uri": "https://localhost:8080/"
        },
        "id": "-vO1fp5ktlqk",
        "outputId": "eb776150-0743-4f75-be33-abc5c613fe1b"
      },
      "execution_count": null,
      "outputs": [
        {
          "output_type": "stream",
          "name": "stdout",
          "text": [
            "The capital city of Burundi is Bujumbura\n",
            "country + city: Burundi Bujumbura\n"
          ]
        }
      ]
    },
    {
      "cell_type": "code",
      "source": [
        "age = 55\n",
        "my_name = \"semasuka\"\n",
        "print(type(age))\n",
        "print(type(my_name))"
      ],
      "metadata": {
        "colab": {
          "base_uri": "https://localhost:8080/"
        },
        "id": "ugtQ9uyFtlzh",
        "outputId": "72d179bd-fdf5-40f3-899f-07c56efc4792"
      },
      "execution_count": null,
      "outputs": [
        {
          "output_type": "stream",
          "name": "stdout",
          "text": [
            "<class 'int'>\n",
            "<class 'str'>\n"
          ]
        }
      ]
    },
    {
      "cell_type": "code",
      "source": [
        "print(\"My name is \"+my_name+\" and I am \"+age+\" years old\")"
      ],
      "metadata": {
        "colab": {
          "base_uri": "https://localhost:8080/",
          "height": 148
        },
        "id": "CMj-BBfXtl_h",
        "outputId": "7e32fc72-f85b-4d1f-f494-a7f48f1abb68"
      },
      "execution_count": null,
      "outputs": [
        {
          "output_type": "error",
          "ename": "TypeError",
          "evalue": "can only concatenate str (not \"int\") to str",
          "traceback": [
            "\u001b[0;31m---------------------------------------------------------------------------\u001b[0m",
            "\u001b[0;31mTypeError\u001b[0m                                 Traceback (most recent call last)",
            "\u001b[0;32m<ipython-input-18-217a319b30e3>\u001b[0m in \u001b[0;36m<cell line: 0>\u001b[0;34m()\u001b[0m\n\u001b[0;32m----> 1\u001b[0;31m \u001b[0mprint\u001b[0m\u001b[0;34m(\u001b[0m\u001b[0;34m\"My name is \"\u001b[0m\u001b[0;34m+\u001b[0m\u001b[0mmy_name\u001b[0m\u001b[0;34m+\u001b[0m\u001b[0;34m\" and I am \"\u001b[0m\u001b[0;34m+\u001b[0m\u001b[0mage\u001b[0m\u001b[0;34m+\u001b[0m\u001b[0;34m\" years old\"\u001b[0m\u001b[0;34m)\u001b[0m\u001b[0;34m\u001b[0m\u001b[0;34m\u001b[0m\u001b[0m\n\u001b[0m",
            "\u001b[0;31mTypeError\u001b[0m: can only concatenate str (not \"int\") to str"
          ]
        }
      ]
    },
    {
      "cell_type": "code",
      "source": [
        "print(\"My name is \"+my_name+\" and I am \"+str(age)+\" years old\")"
      ],
      "metadata": {
        "colab": {
          "base_uri": "https://localhost:8080/"
        },
        "id": "mCGMe2MttmHy",
        "outputId": "1182e2a3-0312-4fdb-d992-42ca4ff2e597"
      },
      "execution_count": null,
      "outputs": [
        {
          "output_type": "stream",
          "name": "stdout",
          "text": [
            "My name is semasuka and I am 55 years old\n"
          ]
        }
      ]
    },
    {
      "cell_type": "code",
      "source": [
        "some_age = 45\n",
        "print(type(some_age))\n",
        "some_age = str(some_age)\n",
        "print(type(some_age))"
      ],
      "metadata": {
        "colab": {
          "base_uri": "https://localhost:8080/"
        },
        "id": "uCe4MvGttmPx",
        "outputId": "6e3e9b13-3ddb-4f96-d50b-2d83203d6d6c"
      },
      "execution_count": null,
      "outputs": [
        {
          "output_type": "stream",
          "name": "stdout",
          "text": [
            "<class 'int'>\n",
            "<class 'str'>\n"
          ]
        }
      ]
    },
    {
      "cell_type": "code",
      "source": [
        "name = input(\"Please enter your name\")\n",
        "greetings = \"hello\""
      ],
      "metadata": {
        "colab": {
          "base_uri": "https://localhost:8080/"
        },
        "id": "ep5XQYTYtmXh",
        "outputId": "81e386a7-c032-4808-c615-de2973696690"
      },
      "execution_count": null,
      "outputs": [
        {
          "name": "stdout",
          "output_type": "stream",
          "text": [
            "Please enter your nameSRISHTI\n"
          ]
        }
      ]
    },
    {
      "cell_type": "code",
      "source": [
        "weight = input(\"Please enter you your weight in kilogram \")"
      ],
      "metadata": {
        "colab": {
          "base_uri": "https://localhost:8080/"
        },
        "id": "jtr9CUnhtmhF",
        "outputId": "eebcbfe1-7fc2-46a2-8614-8efd74e92266"
      },
      "execution_count": null,
      "outputs": [
        {
          "name": "stdout",
          "output_type": "stream",
          "text": [
            "Please enter you your weight in kilogram  49\n"
          ]
        }
      ]
    },
    {
      "cell_type": "code",
      "source": [
        "print(\"Your weight is \"+weight)"
      ],
      "metadata": {
        "colab": {
          "base_uri": "https://localhost:8080/"
        },
        "id": "3s7Vf7hRtmp8",
        "outputId": "e9b91b02-fc60-404b-b07a-c47fbcfaa439"
      },
      "execution_count": null,
      "outputs": [
        {
          "output_type": "stream",
          "name": "stdout",
          "text": [
            "Your weight is  49\n"
          ]
        }
      ]
    },
    {
      "cell_type": "code",
      "source": [
        "first_num = 12\n",
        "sec_num = 3\n",
        "print(\"Addition of 12 and 3 is \"+str(first_num+sec_num))\n",
        "print(\"Substraction of 12 and 3 is \"+str(first_num-sec_num))\n",
        "print(\"Multiplication of 12 and 3 is \"+str(first_num*sec_num))\n",
        "print(\"division of 12 and 3 is \"+str(first_num/sec_num))\n",
        "print(\"Truncation Division (also known as floordivision or floor division) of 12 and 3 is \"+str(first_num//sec_num))\n",
        "print(\"12 power of 3 is \"+str(first_num**sec_num))\n",
        "print(\"modulus of 12 and 3 is \"+str(12%3))"
      ],
      "metadata": {
        "colab": {
          "base_uri": "https://localhost:8080/"
        },
        "id": "MYLdXbCqtm27",
        "outputId": "e5d3e756-ea65-4081-842c-314b630f9cab"
      },
      "execution_count": null,
      "outputs": [
        {
          "output_type": "stream",
          "name": "stdout",
          "text": [
            "Addition of 12 and 3 is 15\n",
            "Substraction of 12 and 3 is 9\n",
            "Multiplication of 12 and 3 is 36\n",
            "division of 12 and 3 is 4.0\n",
            "Truncation Division (also known as floordivision or floor division) of 12 and 3 is 4\n",
            "12 power of 3 is 1728\n",
            "modulus of 12 and 3 is 0\n"
          ]
        }
      ]
    },
    {
      "cell_type": "code",
      "source": [
        "print(6 + 15/3 - 4*12)"
      ],
      "metadata": {
        "colab": {
          "base_uri": "https://localhost:8080/"
        },
        "id": "cxLiq4Nitm8y",
        "outputId": "01d02188-48e3-4d3d-fb56-56a718d4f4dc"
      },
      "execution_count": null,
      "outputs": [
        {
          "output_type": "stream",
          "name": "stdout",
          "text": [
            "-37.0\n"
          ]
        }
      ]
    },
    {
      "cell_type": "code",
      "source": [
        "print((((6+15)/3)-4)*12)"
      ],
      "metadata": {
        "colab": {
          "base_uri": "https://localhost:8080/"
        },
        "id": "gyHTnp8MtnDK",
        "outputId": "6b118ed7-e017-4319-8614-d27bdabef6e3"
      },
      "execution_count": null,
      "outputs": [
        {
          "output_type": "stream",
          "name": "stdout",
          "text": [
            "36.0\n"
          ]
        }
      ]
    },
    {
      "cell_type": "code",
      "source": [
        "price = 39.99\n",
        "price = 49.99\n",
        "price = price + 10\n",
        "print(price)"
      ],
      "metadata": {
        "colab": {
          "base_uri": "https://localhost:8080/"
        },
        "id": "Z8hcEx5ctnNY",
        "outputId": "5f3ac5b4-2b38-483a-90ca-ce3060f9d476"
      },
      "execution_count": null,
      "outputs": [
        {
          "output_type": "stream",
          "name": "stdout",
          "text": [
            "59.99\n"
          ]
        }
      ]
    },
    {
      "cell_type": "code",
      "source": [
        "price = 39.99\n",
        "price += 10\n",
        "print(price)"
      ],
      "metadata": {
        "colab": {
          "base_uri": "https://localhost:8080/"
        },
        "id": "j9Dpynj3tnTe",
        "outputId": "5acd9ef8-e410-4232-a6a1-67c7e5d97818"
      },
      "execution_count": null,
      "outputs": [
        {
          "output_type": "stream",
          "name": "stdout",
          "text": [
            "49.99\n"
          ]
        }
      ]
    },
    {
      "cell_type": "code",
      "source": [
        "price = 39.99 #SUBSTRACTIO\n",
        "price -= 10\n",
        "print(price)"
      ],
      "metadata": {
        "colab": {
          "base_uri": "https://localhost:8080/"
        },
        "id": "jbY7wh3xtnZ6",
        "outputId": "27296fb9-1dbf-406b-a82e-f7240cfbe19a"
      },
      "execution_count": null,
      "outputs": [
        {
          "output_type": "stream",
          "name": "stdout",
          "text": [
            "29.990000000000002\n"
          ]
        }
      ]
    },
    {
      "cell_type": "code",
      "source": [
        "price = 39.99 #DIVISION\n",
        "price /= 10\n",
        "print(price)"
      ],
      "metadata": {
        "colab": {
          "base_uri": "https://localhost:8080/"
        },
        "id": "xPrVnaYKtnhL",
        "outputId": "f7bef3a1-0aa5-4a6b-d97a-b7e4a37e0a26"
      },
      "execution_count": null,
      "outputs": [
        {
          "output_type": "stream",
          "name": "stdout",
          "text": [
            "3.999\n"
          ]
        }
      ]
    },
    {
      "cell_type": "code",
      "source": [
        "price = 39.99 #truncation division\n",
        "price //= 10\n",
        "print(price)"
      ],
      "metadata": {
        "colab": {
          "base_uri": "https://localhost:8080/"
        },
        "id": "OszAohhFtnpX",
        "outputId": "a03dc53c-d374-4aff-def5-ef830116cb2a"
      },
      "execution_count": null,
      "outputs": [
        {
          "output_type": "stream",
          "name": "stdout",
          "text": [
            "3.0\n"
          ]
        }
      ]
    },
    {
      "cell_type": "code",
      "source": [
        "price = 39.99 #MULTIPLICATION\n",
        "\n",
        "price *= 2\n",
        "print(price)"
      ],
      "metadata": {
        "colab": {
          "base_uri": "https://localhost:8080/"
        },
        "id": "xmRRRjpitnxs",
        "outputId": "200d12ea-789e-4508-881d-9031c1d66d94"
      },
      "execution_count": null,
      "outputs": [
        {
          "output_type": "stream",
          "name": "stdout",
          "text": [
            "79.98\n"
          ]
        }
      ]
    },
    {
      "cell_type": "code",
      "source": [
        "num_1 = 45 #comparison operator\n",
        "num_2 = 99\n",
        "print(num_1 > num_2)\n",
        "print(num_1 < num_2)\n",
        "print(num_1 >= num_2)\n",
        "print(num_2 <= num_2)"
      ],
      "metadata": {
        "colab": {
          "base_uri": "https://localhost:8080/"
        },
        "id": "m_tRyq5Mtn6J",
        "outputId": "a72dfd3a-6576-416b-968b-ac98c6210328"
      },
      "execution_count": null,
      "outputs": [
        {
          "output_type": "stream",
          "name": "stdout",
          "text": [
            "False\n",
            "True\n",
            "False\n",
            "True\n"
          ]
        }
      ]
    },
    {
      "cell_type": "code",
      "source": [
        "num_3 = 32\n",
        "num_4 = 32\n",
        "print(num_3 == num_4)\n",
        "print(num_3 != num_4)"
      ],
      "metadata": {
        "colab": {
          "base_uri": "https://localhost:8080/"
        },
        "id": "vzsIBPR3toAy",
        "outputId": "0925e8ab-7b83-44a8-d2b1-eeeeb408f5fa"
      },
      "execution_count": null,
      "outputs": [
        {
          "output_type": "stream",
          "name": "stdout",
          "text": [
            "True\n",
            "False\n"
          ]
        }
      ]
    },
    {
      "cell_type": "code",
      "source": [
        "#let's use this qualification to define a person\n",
        "is_boy = False\n",
        "is_girl = True\n",
        "is_teen = True\n",
        "print(is_boy and is_girl)\n",
        "print(is_girl and is_teen)"
      ],
      "metadata": {
        "colab": {
          "base_uri": "https://localhost:8080/"
        },
        "id": "5W-Lu407toIU",
        "outputId": "c8fc9cf7-800c-4493-ee10-386d24fddb0d"
      },
      "execution_count": null,
      "outputs": [
        {
          "output_type": "stream",
          "name": "stdout",
          "text": [
            "False\n",
            "True\n"
          ]
        }
      ]
    },
    {
      "cell_type": "code",
      "source": [
        "#let's use this qualification to define a person\n",
        "is_boy = False\n",
        "is_girl = True\n",
        "is_teen = True\n",
        "print(is_boy and is_girl)\n",
        "print(is_girl and is_teen)"
      ],
      "metadata": {
        "colab": {
          "base_uri": "https://localhost:8080/"
        },
        "id": "PJn1efO3trlU",
        "outputId": "21d2e936-f40f-4c40-a4e2-dcc770b1f2f6"
      },
      "execution_count": null,
      "outputs": [
        {
          "output_type": "stream",
          "name": "stdout",
          "text": [
            "False\n",
            "True\n"
          ]
        }
      ]
    },
    {
      "cell_type": "code",
      "source": [
        "girl = True\n",
        "print(not girl)"
      ],
      "metadata": {
        "colab": {
          "base_uri": "https://localhost:8080/"
        },
        "id": "7wB4V_Dotr2J",
        "outputId": "f41218db-5db9-44e4-9984-ec4b78ca731a"
      },
      "execution_count": null,
      "outputs": [
        {
          "output_type": "stream",
          "name": "stdout",
          "text": [
            "False\n"
          ]
        }
      ]
    },
    {
      "cell_type": "code",
      "source": [
        "num_1 = 45\n",
        "num_2 = 45\n",
        "string_1 = \"water\"\n",
        "string_2 = \"water\"\n",
        "print(num_1 is num_2)\n",
        "print(string_1 is string_2)"
      ],
      "metadata": {
        "colab": {
          "base_uri": "https://localhost:8080/"
        },
        "id": "0b_gAtU7tsAr",
        "outputId": "d99743fb-f5fe-40e0-b143-a1ecb791916e"
      },
      "execution_count": null,
      "outputs": [
        {
          "output_type": "stream",
          "name": "stdout",
          "text": [
            "True\n",
            "True\n"
          ]
        }
      ]
    },
    {
      "cell_type": "code",
      "source": [
        "the_list_1 = [\"water\",5,True]\n",
        "the_list_2 = [\"water\",5,True]\n",
        "print(the_list_1 in the_list_2)"
      ],
      "metadata": {
        "colab": {
          "base_uri": "https://localhost:8080/"
        },
        "id": "Ry0S4AxQtsJa",
        "outputId": "fbdef73f-a9bf-4264-8a91-eb89ea1fe263"
      },
      "execution_count": null,
      "outputs": [
        {
          "output_type": "stream",
          "name": "stdout",
          "text": [
            "False\n"
          ]
        }
      ]
    },
    {
      "cell_type": "code",
      "source": [
        "the_sentence = \"We will search a specific sequence of characters in here\"\n",
        "word_1_to_search = \"will\"\n",
        "word_2_to_search = \"a\"\n",
        "word_3_to_search = \"quence\"\n",
        "word_4_to_search = \"not in the sentence\"\n",
        "print(word_1_to_search in the_sentence)"
      ],
      "metadata": {
        "colab": {
          "base_uri": "https://localhost:8080/"
        },
        "id": "nMBkrHRGtsRM",
        "outputId": "addd327e-1ae3-4215-da46-021f833802b1"
      },
      "execution_count": null,
      "outputs": [
        {
          "output_type": "stream",
          "name": "stdout",
          "text": [
            "True\n"
          ]
        }
      ]
    },
    {
      "cell_type": "code",
      "source": [
        "print(word_2_to_search in the_sentence)\n",
        "print(word_3_to_search in the_sentence)\n",
        "print(word_4_to_search in the_sentence)\n",
        "print(word_4_to_search not in the_sentence)"
      ],
      "metadata": {
        "colab": {
          "base_uri": "https://localhost:8080/"
        },
        "id": "e-pvrqCntsYd",
        "outputId": "442668b6-b7f5-4fcf-a87a-4b906aba01fc"
      },
      "execution_count": null,
      "outputs": [
        {
          "output_type": "stream",
          "name": "stdout",
          "text": [
            "True\n",
            "True\n",
            "False\n",
            "True\n"
          ]
        }
      ]
    },
    {
      "cell_type": "code",
      "source": [
        "the_sentence = \"python is so much fun\"\n",
        "lowercase_word = \"python\"\n",
        "uppercase_word = \"Python\"\n",
        "print(lowercase_word in the_sentence)\n",
        "print(uppercase_word in the_sentence)\n",
        "print(uppercase_word not in the_sentence)"
      ],
      "metadata": {
        "colab": {
          "base_uri": "https://localhost:8080/"
        },
        "id": "dM1oNIHNtsg3",
        "outputId": "3d2320c9-3b52-4db3-d6e4-d23e097d3a27"
      },
      "execution_count": null,
      "outputs": [
        {
          "output_type": "stream",
          "name": "stdout",
          "text": [
            "True\n",
            "False\n",
            "True\n"
          ]
        }
      ]
    },
    {
      "cell_type": "code",
      "source": [
        "print('let\\'s learn Python') #String functions"
      ],
      "metadata": {
        "colab": {
          "base_uri": "https://localhost:8080/"
        },
        "id": "MEo2x3wdtsoU",
        "outputId": "765d5668-da57-4694-8325-8d7a77273026"
      },
      "execution_count": null,
      "outputs": [
        {
          "output_type": "stream",
          "name": "stdout",
          "text": [
            "let's learn Python\n"
          ]
        }
      ]
    },
    {
      "cell_type": "code",
      "source": [
        "print('this is kevin\\'s house')\n",
        "print(\"****\") #these stars are used to separate the output\n",
        "print(\"Your coach said:\\\"You need to exercise more often\\\"\")\n",
        "print(\"****\")\n",
        "print(\"You will send this letter via DHL\\\\FEDEX\")\n",
        "print(\"****\")\n",
        "print(\"If we want to break \\\n",
        "the string \\\n",
        "in a new \\\n",
        "line\")\n",
        "print(\"****\")\n",
        "print(\"There is a tab\\tcharacter\")\n",
        "print(\"****\")\n",
        "print(\"This text have been splited\\ninto\\ndifferent lines\")\n",
        "print(\"****\")\n",
        "print(\"\"\"This is\n",
        "splitted\n",
        "in\n",
        "several\n",
        "lines\"\"\")"
      ],
      "metadata": {
        "colab": {
          "base_uri": "https://localhost:8080/"
        },
        "id": "O4AGhD94tswS",
        "outputId": "1b5f76a6-6cf2-4af2-ee3c-b8c22bae4ea0"
      },
      "execution_count": null,
      "outputs": [
        {
          "output_type": "stream",
          "name": "stdout",
          "text": [
            "this is kevin's house\n",
            "****\n",
            "Your coach said:\"You need to exercise more often\"\n",
            "****\n",
            "You will send this letter via DHL\\FEDEX\n",
            "****\n",
            "If we want to break the string in a new line\n",
            "****\n",
            "There is a tab\tcharacter\n",
            "****\n",
            "This text have been splited\n",
            "into\n",
            "different lines\n",
            "****\n",
            "This is\n",
            "splitted\n",
            "in\n",
            "several\n",
            "lines\n"
          ]
        }
      ]
    },
    {
      "cell_type": "code",
      "source": [
        "print(r\"this is kevin\\ house\")\n",
        "print(r'this is kevin\\'s house')\n",
        "print(r\"\"\"this should have been\\t a tab space\"\"\")\n",
        "print(r\"You will send this letter via DHL\\\\FEDEX\")\n",
        "print(R\"This text will not be splited\\ninto\\ndifferent lines\")"
      ],
      "metadata": {
        "colab": {
          "base_uri": "https://localhost:8080/"
        },
        "id": "tnOEDoIuts5v",
        "outputId": "4829b91b-b8a1-419b-e902-a9a1ab31b72c"
      },
      "execution_count": null,
      "outputs": [
        {
          "output_type": "stream",
          "name": "stdout",
          "text": [
            "this is kevin\\ house\n",
            "this is kevin\\'s house\n",
            "this should have been\\t a tab space\n",
            "You will send this letter via DHL\\\\FEDEX\n",
            "This text will not be splited\\ninto\\ndifferent lines\n"
          ]
        }
      ]
    },
    {
      "cell_type": "code",
      "source": [
        "dog_breed = \"labrador\"\n",
        "print(dog_breed[3])\n",
        "print(dog_breed[0])\n",
        "print(dog_breed[6])"
      ],
      "metadata": {
        "colab": {
          "base_uri": "https://localhost:8080/"
        },
        "id": "cNf2StXxxdjl",
        "outputId": "6133a436-dd26-4a58-b781-dfecfe0bde68"
      },
      "execution_count": null,
      "outputs": [
        {
          "output_type": "stream",
          "name": "stdout",
          "text": [
            "r\n",
            "l\n",
            "o\n"
          ]
        }
      ]
    },
    {
      "cell_type": "code",
      "source": [
        "print(dog_breed[-1])"
      ],
      "metadata": {
        "colab": {
          "base_uri": "https://localhost:8080/"
        },
        "id": "vuRc8YGJxdvn",
        "outputId": "f6393ab1-1b80-4df4-a52f-00a6a384b958"
      },
      "execution_count": null,
      "outputs": [
        {
          "output_type": "stream",
          "name": "stdout",
          "text": [
            "r\n"
          ]
        }
      ]
    },
    {
      "cell_type": "code",
      "source": [
        "print(dog_breed[0:5])"
      ],
      "metadata": {
        "colab": {
          "base_uri": "https://localhost:8080/"
        },
        "id": "b_9ndqCHxd61",
        "outputId": "3b313351-2a78-410a-90f0-ec4942d585e9"
      },
      "execution_count": null,
      "outputs": [
        {
          "output_type": "stream",
          "name": "stdout",
          "text": [
            "labra\n"
          ]
        }
      ]
    },
    {
      "cell_type": "code",
      "source": [
        "print(dog_breed[:5])"
      ],
      "metadata": {
        "colab": {
          "base_uri": "https://localhost:8080/"
        },
        "id": "kNvhowkzxeFP",
        "outputId": "21a973cd-4460-4f62-88cc-fcb1a0dc8620"
      },
      "execution_count": null,
      "outputs": [
        {
          "output_type": "stream",
          "name": "stdout",
          "text": [
            "labra\n"
          ]
        }
      ]
    },
    {
      "cell_type": "code",
      "source": [
        "print(dog_breed[3:])"
      ],
      "metadata": {
        "colab": {
          "base_uri": "https://localhost:8080/"
        },
        "id": "AIFAXd9zxeOl",
        "outputId": "bd27a5c7-6275-4c5a-8572-2bfa7ae0f1b2"
      },
      "execution_count": null,
      "outputs": [
        {
          "output_type": "stream",
          "name": "stdout",
          "text": [
            "rador\n"
          ]
        }
      ]
    },
    {
      "cell_type": "code",
      "source": [
        "print(dog_breed[-4:-1])"
      ],
      "metadata": {
        "colab": {
          "base_uri": "https://localhost:8080/"
        },
        "id": "8bycZ6e9xeYO",
        "outputId": "f69041ce-4bba-48f0-eb03-8056359d6449"
      },
      "execution_count": null,
      "outputs": [
        {
          "output_type": "stream",
          "name": "stdout",
          "text": [
            "ado\n"
          ]
        }
      ]
    },
    {
      "cell_type": "code",
      "source": [
        "spaced_number = \"1, 2, 3, 4, 5, 6, 7, 8, 9\" #In this example,every second character(starting from 0) is printed.\n",
        "print(spaced_number[0:25:3])"
      ],
      "metadata": {
        "colab": {
          "base_uri": "https://localhost:8080/"
        },
        "id": "ZOWQ5xM0xeqV",
        "outputId": "00a9325b-628f-4390-d39f-aeaec0ad3311"
      },
      "execution_count": null,
      "outputs": [
        {
          "output_type": "stream",
          "name": "stdout",
          "text": [
            "123456789\n"
          ]
        }
      ]
    },
    {
      "cell_type": "code",
      "source": [
        "print(spaced_number[::3])"
      ],
      "metadata": {
        "colab": {
          "base_uri": "https://localhost:8080/"
        },
        "id": "Xox7TKttxe1F",
        "outputId": "de004115-9631-4458-9f9e-096dd08a7909"
      },
      "execution_count": null,
      "outputs": [
        {
          "output_type": "stream",
          "name": "stdout",
          "text": [
            "123456789\n"
          ]
        }
      ]
    },
    {
      "cell_type": "code",
      "source": [
        "name = \"Yvan\" #duplicate string\n",
        "print(name*5)"
      ],
      "metadata": {
        "colab": {
          "base_uri": "https://localhost:8080/"
        },
        "id": "1FNIdya8xe_L",
        "outputId": "b458d5e9-f2e5-4f1d-fdbd-372cece221ff"
      },
      "execution_count": null,
      "outputs": [
        {
          "output_type": "stream",
          "name": "stdout",
          "text": [
            "YvanYvanYvanYvanYvan\n"
          ]
        }
      ]
    },
    {
      "cell_type": "code",
      "source": [
        "name = \"Yvan\"\n",
        "dupli_name = name * 5\n",
        "print(dupli_name)"
      ],
      "metadata": {
        "colab": {
          "base_uri": "https://localhost:8080/"
        },
        "id": "xfrnZ6YpxfI4",
        "outputId": "50c5b578-718d-4743-e407-86793c78a98f"
      },
      "execution_count": null,
      "outputs": [
        {
          "output_type": "stream",
          "name": "stdout",
          "text": [
            "YvanYvanYvanYvanYvan\n"
          ]
        }
      ]
    },
    {
      "cell_type": "code",
      "source": [
        "age = 84\n",
        "print(\"I am \"+age+\" years old\")"
      ],
      "metadata": {
        "colab": {
          "base_uri": "https://localhost:8080/",
          "height": 166
        },
        "id": "GUUk9uLVxfSB",
        "outputId": "a37cc7b7-3bc9-4b96-996b-901d0b50ee58"
      },
      "execution_count": null,
      "outputs": [
        {
          "output_type": "error",
          "ename": "TypeError",
          "evalue": "can only concatenate str (not \"int\") to str",
          "traceback": [
            "\u001b[0;31m---------------------------------------------------------------------------\u001b[0m",
            "\u001b[0;31mTypeError\u001b[0m                                 Traceback (most recent call last)",
            "\u001b[0;32m<ipython-input-61-7eea149da213>\u001b[0m in \u001b[0;36m<cell line: 0>\u001b[0;34m()\u001b[0m\n\u001b[1;32m      1\u001b[0m \u001b[0mage\u001b[0m \u001b[0;34m=\u001b[0m \u001b[0;36m84\u001b[0m\u001b[0;34m\u001b[0m\u001b[0;34m\u001b[0m\u001b[0m\n\u001b[0;32m----> 2\u001b[0;31m \u001b[0mprint\u001b[0m\u001b[0;34m(\u001b[0m\u001b[0;34m\"I am \"\u001b[0m\u001b[0;34m+\u001b[0m\u001b[0mage\u001b[0m\u001b[0;34m+\u001b[0m\u001b[0;34m\" years old\"\u001b[0m\u001b[0;34m)\u001b[0m\u001b[0;34m\u001b[0m\u001b[0;34m\u001b[0m\u001b[0m\n\u001b[0m",
            "\u001b[0;31mTypeError\u001b[0m: can only concatenate str (not \"int\") to str"
          ]
        }
      ]
    },
    {
      "cell_type": "code",
      "source": [
        "age = 84\n",
        "print(\"I am {0} years old\".format(age))\n",
        "print(\"I live in {0}\".format(\"Africa\"))"
      ],
      "metadata": {
        "colab": {
          "base_uri": "https://localhost:8080/"
        },
        "id": "E99Uqw_Uxfd2",
        "outputId": "cc2b30db-51bd-4af1-de4a-01ab90aeb2bf"
      },
      "execution_count": null,
      "outputs": [
        {
          "output_type": "stream",
          "name": "stdout",
          "text": [
            "I am 84 years old\n",
            "I live in Africa\n"
          ]
        }
      ]
    },
    {
      "cell_type": "code",
      "source": [
        "husband_car = \"benz\"\n",
        "wife_car = \"porshe\"\n",
        "print(\"the husband drives a {0} and the wife drives a {1}\".format(husband_car,wife_car))"
      ],
      "metadata": {
        "colab": {
          "base_uri": "https://localhost:8080/"
        },
        "id": "xzfg5Fs2xfmR",
        "outputId": "7058e26f-b935-4949-98d0-43e41d992b07"
      },
      "execution_count": null,
      "outputs": [
        {
          "output_type": "stream",
          "name": "stdout",
          "text": [
            "the husband drives a benz and the wife drives a porshe\n"
          ]
        }
      ]
    },
    {
      "cell_type": "code",
      "source": [
        "city = \"Kinshasa\"\n",
        "country = \"DRC\"\n",
        "print(\"I am {} years old and I live in the capital of {}, {}\".format(\"89\",country,city))"
      ],
      "metadata": {
        "colab": {
          "base_uri": "https://localhost:8080/"
        },
        "id": "oPswPGK8xfw0",
        "outputId": "c2713ae4-d5b1-4512-8a48-7eae4dbeab65"
      },
      "execution_count": null,
      "outputs": [
        {
          "output_type": "stream",
          "name": "stdout",
          "text": [
            "I am 89 years old and I live in the capital of DRC, Kinshasa\n"
          ]
        }
      ]
    }
  ],
  "metadata": {
    "colab": {
      "provenance": [],
      "toc_visible": true,
      "authorship_tag": "ABX9TyOWfgyseQIACiXy1FdEWH2T",
      "include_colab_link": true
    },
    "kernelspec": {
      "display_name": "Python 3",
      "name": "python3"
    },
    "language_info": {
      "name": "python"
    }
  },
  "nbformat": 4,
  "nbformat_minor": 0
}